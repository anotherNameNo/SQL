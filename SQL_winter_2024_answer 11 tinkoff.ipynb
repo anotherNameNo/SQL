{
 "cells": [
  {
   "cell_type": "markdown",
   "id": "bc198323-1459-4c85-b338-f1380aa87459",
   "metadata": {},
   "source": [
    "# SQL. Старт. Зима-весна 2024"
   ]
  },
  {
   "cell_type": "markdown",
   "id": "1fba0688-bc0d-491f-9a72-bc3236d1758c",
   "metadata": {},
   "source": [
    "Для решения сгенерированы данные при помощи Python (Приложение 1).  \n",
    "Проверка решения проводилась https://sqliteonline.com/ в СУБД PostgreSQL (Приложение 2).  \r\n"
   ]
  },
  {
   "cell_type": "markdown",
   "id": "199d0b25-c198-4bf3-9177-293ad7a330c0",
   "metadata": {},
   "source": [
    "1.\tНапишите запрос, с помощью которого можно найти дубли в поле email из таблицы “Sfaff”.\n",
    "\n",
    "SELECT email AS double_email FROM \"Staff\"  \n",
    "GROUP BY email  \n",
    "HAVING COUNT(email)>  1;\r\n"
   ]
  },
  {
   "cell_type": "markdown",
   "id": "1c6229cb-52c1-4ee9-bf63-222cd5d5e03c",
   "metadata": {},
   "source": [
    "2. Напишите запрос, с помощью которого можно определить возраст каждого сотрудника из таблицы “Staff” на момент запроса.\n",
    "\n",
    "SELECT name,  EXTRACT(YEAR FROM AGE(CURRENT_DATE, TO_DATE(bithday, 'DD.MM.YYYY'))) AS years_old  \n",
    "FROM \"Staff\"  \n",
    "WHERE bithday IS NOT NULL"
   ]
  },
  {
   "cell_type": "markdown",
   "id": "1c9338e6-5098-4bf1-a193-8f9f456eae52",
   "metadata": {},
   "source": [
    "3. Напишите запрос, с помощью которого можно определить должность (Jobtitles.name) со вторым по величине уровнем зарплаты.\n",
    "\n",
    "Решение 1.  \n",
    "SELECT name FROM \"Jobtitles\"  \n",
    "WHERE jobtitle_id = (SELECT jobtitle_id FROM \"Staff\" WHERE salary is NOT NULL ORDER BY salary DESC OFFSET 1 LIMIT 1) \n",
    "\n",
    "Решение 2. Учитывает одинаковый уровень зарплаты у нескольких сотрудников.  \n",
    "WITH cte AS  \n",
    "( SELECT salary, jobtitle_id, dense_rank() OVER(ORDER BY salary DESC) AS salary_level  \n",
    "FROM \"Staff\"  \n",
    "WHERE salary IS NOT NULL) \n",
    "\n",
    "SELECT name  \n",
    "FROM \"Jobtitles\"  \n",
    "WHERE jobtitle_id in (SELECT jobtitle_id FROM cte WHERE salary_level=2)"
   ]
  },
  {
   "cell_type": "markdown",
   "id": "306b7e1d-4463-4aca-bf36-d35bb523fdc9",
   "metadata": {},
   "source": [
    "### Приложение 1. \n",
    "Python get data scrip\r\n"
   ]
  },
  {
   "cell_type": "code",
   "execution_count": null,
   "id": "db189899-03e5-4e3b-9d23-4c5f0f3679d0",
   "metadata": {},
   "outputs": [],
   "source": [
    "import pandas as pd\n",
    "from random import choice, randint\n",
    "from string import ascii_lowercase\n",
    "from datetime import datetime as dt\n",
    "\n",
    "data = pd.DataFrame()\n",
    "n = 100\n",
    "\n",
    "data[\"staff_id\"] = list(range(1, n+1))\n",
    "\n",
    "name = [\"James\", \"John\", \"Robert\", \"Michae\", \n",
    "        \"William\", \"Charles\", \"Richard\", \"Paul\", \n",
    "        \"Christopher\", \"David\", \"Donald\", ]\n",
    "surname = [\"Ross\", \"Ramirez\", \"Sanders\", \"Bailey\", \n",
    "           \"Morris\", \"Gonzalez\", \"Hill\", \"Hernandez\", \"Walker\" ]\n",
    "\n",
    "data[\"name\"] = [f\"{choice(name)} {choice(surname)}\" for _ in range(n)]\n",
    "\n",
    "data[\"salary\"] = [randint(27_894, 1_047_587) for _ in range(n)]\n",
    "\n",
    "def get_email():\n",
    "    l = randint(7, 13)\n",
    "    txt = \"\".join(choice(ascii_lowercase) for _ in range(l))\n",
    "    return f\"{txt}@{choice(domain)}\"\n",
    "domain = [\"mail.ru\", \"ya.ru\", \"yandex.ru\", \"gmail.com\", \"rambler.ru\", \"bk.ru\", \"list.ru\"]\n",
    "data[\"email\"] = [get_email() for _ in range(n)]\n",
    "\n",
    "def get_bithday():\n",
    "    start_date = dt(randint(1985, 2005), randint(1,12), randint(1, 28))\n",
    "    return start_date.strftime(\"%d.%m.%Y\")\n",
    "data[\"bithday\"] = [get_bithday() for _ in range(n)]\n",
    "\n",
    "data[\"jobtitle_id\"] = [randint(1, 7) for _ in range(n)]\n",
    "\n",
    "data_2 = pd.DataFrame({\"jobtitle_id\": list(range(1,8)),\n",
    "                      \"name\": [\"Developer\", \"System Analyst\", \"Project Manager\", \n",
    "                               \"System Administrator\", \"Group Leader\", \n",
    "                               \"Testing Engineer\", \"Support\", ]\n",
    "                      })\n",
    "data_2\n",
    "\n",
    "data.to_csv(\"Staff.csv\", index=False)\n",
    "data_2.to_csv(\"Jobtitles.csv\", index=False)\n"
   ]
  },
  {
   "cell_type": "markdown",
   "id": "7aef7809-bc57-4c16-b525-e2c82473e5cb",
   "metadata": {},
   "source": [
    "### Приложение 2. \n",
    "Подготовка таблиц для запросов SQL\r\n"
   ]
  },
  {
   "cell_type": "markdown",
   "id": "54268411-5e9b-46f6-a9e9-d50b5170b5d6",
   "metadata": {},
   "source": [
    "CREATE TABLE \"Jobtitles\" (\"jobtitle_id\" SMALLINT,\"name\" VARCHAR(20));  \n",
    "INSERT INTO \"Jobtitles\" (\"jobtitle_id\",\"name\") VALUES  \n",
    "('1','Developer'),  \n",
    "('2','System Analyst'),  \n",
    "('3','Project Manager'),  \n",
    "('4','System Administrator'),  \n",
    "('5','Group Leader'),  \n",
    "('6','Testing Engineer'),  \n",
    "('7','Support'); \n",
    "\n",
    "CREATE TABLE \"Staff\" (\"staff_id\" SMALLINT,\"name\" VARCHAR(30),\"salary\" INTEGER,\"email\" VARCHAR(30),\"bithday\" VARCHAR(10),\"jobtitle_id\" SMALLINT);  \n",
    "INSERT INTO \"Staff\" (\"staff_id\",\"name\",\"salary\",\"email\",\"bithday\",\"jobtitle_id\") VALUES  \n",
    "('1','William Hernandez','616342','abfnnta@mail.ru','06.01.1986','6'),  \n",
    "('2','David Morris','747609','fwfswem@rambler.ru','08.03.1986','2'),  \n",
    "('3','Richard Ramirez','656008','wemxyzljgjhsv@bk.ru','20.03.2002','4'),  ……………………………………………………………………………………………………………………………………………………….  \n",
    "('98','Paul Ross','977718','pqrmwyurjaap@list.ru','25.04.2003','4'),  \n",
    "('99','Christopher Hill','268727','wnuxswmldwbf@bk.ru','27.03.1992','7'),  \n",
    "('100','Michae Morris','245944','kseewamtqtm@list.ru','14.06.1997','2'); \n",
    "\n",
    "В генерации отсутствуют NULL, поэтому:  \n",
    "UPDATE \"Staff\"  \n",
    "SET email = NULL  \n",
    "WHERE staff_id % 13 = 0;  \n",
    "SELECT * FROM \"Staff\"; \n",
    "\n",
    "UPDATE \"Staff\"  \n",
    "SET bithday = NULL  \n",
    "WHERE (staff_id-5) % 29 = 0;  \n",
    "\n",
    "UPDATE \"Staff\"  \n",
    "SET salary = NULL  \n",
    "WHERE (staff_id+13) % 29 = 0; \n",
    "\n",
    "В генерации отсутствуют дубли, поэтому:  \n",
    "UPDATE \"Staff\"  \n",
    "SET email = (SELECT email FROM \"Staff\" WHERE staff_id=15 )  \n",
    "WHERE staff_id IN (20,40); \n",
    "\n",
    "UPDATE \"Staff\"  \n",
    "SET email = (SELECT email FROM \"Staff\" WHERE staff_id=3 )  \n",
    "WHERE staff_id = 50;"
   ]
  }
 ],
 "metadata": {
  "kernelspec": {
   "display_name": "Python 3 (ipykernel)",
   "language": "python",
   "name": "python3"
  },
  "language_info": {
   "codemirror_mode": {
    "name": "ipython",
    "version": 3
   },
   "file_extension": ".py",
   "mimetype": "text/x-python",
   "name": "python",
   "nbconvert_exporter": "python",
   "pygments_lexer": "ipython3",
   "version": "3.12.0"
  }
 },
 "nbformat": 4,
 "nbformat_minor": 5
}
